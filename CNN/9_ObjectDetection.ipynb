{
  "cells": [
    {
      "cell_type": "markdown",
      "metadata": {
        "id": "T4IatniC9WUS"
      },
      "source": [
        "## 객체 인식을 위한 신경망"
      ]
    },
    {
      "cell_type": "markdown",
      "metadata": {
        "id": "v88CJh-r9YSZ"
      },
      "source": [
        "- 객체 인식(Object Detection) : 이미지/영상 내 객체를 식별하는 기술\n",
        "\n",
        "  - 여러 가지 객체에 대한 **분류**\n",
        "  \n",
        "  - 객체의 **위치 정보** 검출"
      ]
    },
    {
      "cell_type": "markdown",
      "metadata": {
        "id": "4-IFkmWZ9ftR"
      },
      "source": [
        "- 1-stage detector\n",
        "\n",
        "  - 분류와 위치 검출을 동시에 행하는 방법\n",
        "\n",
        "  - 비교적 빠른 속도, 낮은 정확도\n",
        "\n",
        "  - ex) YOLO"
      ]
    },
    {
      "cell_type": "markdown",
      "metadata": {},
      "source": [
        "- 2-stage detector\n",
        "\n",
        "  - 분류와 위치 검출을 순차적으로 행하는 방법\n",
        "\n",
        "  - 비교적 느린 속도, 높은 정확도\n",
        "  \n",
        "  - ex) R-CNN"
      ]
    },
    {
      "cell_type": "markdown",
      "metadata": {
        "id": "ikHBDtje-ox7"
      },
      "source": [
        "- 과거의 객체 인식 알고리즘들은 **sliding window** 방식\n",
        "\n",
        "  - 일정 크기의 window로 이미지의 모든 영역을 탐색하며 객체를 검출하는 방식 -> 비효율적"
      ]
    },
    {
      "cell_type": "markdown",
      "metadata": {},
      "source": [
        "- 현재는 선택적 탐색(selective search) 알고리즘을 적용한 **후보 영역(region proposal)** 방식을 많이 사용함"
      ]
    },
    {
      "cell_type": "markdown",
      "metadata": {},
      "source": [
        "---"
      ]
    },
    {
      "cell_type": "markdown",
      "metadata": {
        "id": "Ysl4wM_o-Bwz"
      },
      "source": [
        "#### R-CNN"
      ]
    },
    {
      "cell_type": "markdown",
      "metadata": {
        "id": "isPF30lY-kjz"
      },
      "source": [
        "- 이미지 분류를 수행하는 `CNN`과\n",
        "\n",
        "- 객체가 있을 법한 영역을 제안하는 `후보 영역(region proposal)` 알고리즘을 결합함"
      ]
    },
    {
      "cell_type": "markdown",
      "metadata": {},
      "source": [
        "<img src=\"https://production-media.paperswithcode.com/methods/new_splash-method_NaA95zW.jpg\" width=\"600px\">"
      ]
    },
    {
      "cell_type": "markdown",
      "metadata": {
        "id": "m_y5i8kZ_orZ"
      },
      "source": [
        "- (1) 이미지를 입력 받음\n",
        "<br><br>\n",
        "- (2) 후보 영역을 추출함\n",
        "\n",
        "    - 선택적 탐색 알고리즘으로 **2000개의 bounding box**를 추출하고 **crop** 함\n",
        "\n",
        "    - crop 된 이미지들을 같은 크기로 통일함\n",
        "<br><br>\n",
        "- (3) CNN 적용\n",
        "\n",
        "    - 추출된 2000개의 이미지에 각각 CNN을 적용함\n",
        "<br><br>\n",
        "- (4) 분류\n",
        "\n",
        "    - 각 이미지(영역)를 분류하여 전체 결과를 도출함"
      ]
    },
    {
      "cell_type": "markdown",
      "metadata": {
        "id": "CFQu6aGV_rw8"
      },
      "source": [
        "##### - 선택적 탐색"
      ]
    },
    {
      "cell_type": "markdown",
      "metadata": {
        "id": "-sS21VJ3Akds"
      },
      "source": [
        "- 객체가 있을 만한 **후보 영역**을 알아내는 방법"
      ]
    },
    {
      "cell_type": "markdown",
      "metadata": {
        "id": "2RGGb5URArGr"
      },
      "source": [
        "- (1) 초기 영역 생성\n",
        "\n",
        "  - 이미지를 다수의 영역으로 분할함\n",
        "  \n",
        "  - 하나의 객체가 하나의 영역에 할당될 수 있도록 최대한 많은 영역을 생성함\n",
        "<br><br>\n",
        "- (2) 작은 영역의 통합\n",
        "\n",
        "  - 서로 비슷한 영역끼리 통합함\n",
        "\n",
        "  - 탐욕 알고리즘을 사용하여 비슷한 영역이 하나로 통합될 때까지 반복됨\n",
        "<br><br>\n",
        "- (3) 후보 영역 생성\n",
        "\n",
        "  - 통합된 영역을 기반으로 후보 영역(bounding box)를 추출함"
      ]
    },
    {
      "cell_type": "markdown",
      "metadata": {
        "id": "eV2sse8PDagW"
      },
      "source": [
        "- 이후, 추출된 후보 영역에 CNN을 적용하게 됨"
      ]
    },
    {
      "cell_type": "markdown",
      "metadata": {
        "id": "ajNurx1mDeuf"
      },
      "source": [
        "##### - 공간 피라미드 풀링"
      ]
    },
    {
      "cell_type": "markdown",
      "metadata": {
        "id": "01ZZ__QJDgqg"
      },
      "source": [
        "- 후보 영역을 CNN에 적용하기 위해, 이미지를 `동일한 크기`로 고정해야 함\n",
        "  \n",
        "  -> 객체의 일부가 잘리거나 생김새가 변형될 수 있는 문제가 있음\n",
        "<br><br>\n",
        "- 이미지 크기에 관계없이 Conv Layer을 적용하고, FC Layer에 전달되기 전에 **동일한 크기로 Pooling**을 적용해주는 방법\n",
        "  \n",
        "  -> 이미지의 특징 보존 효과"
      ]
    },
    {
      "cell_type": "markdown",
      "metadata": {
        "id": "0BCP-kTHA_nn"
      },
      "source": [
        "##### - R-CNN 단점"
      ]
    },
    {
      "cell_type": "markdown",
      "metadata": {
        "id": "cIEAPiHTC1-C"
      },
      "source": [
        "- 위 3단계의 복잡한 학습 과정\n",
        "\n",
        "- 오랜 학습 시간과 대용량 저장 공간 필요\n",
        "\n",
        "- Object Detection 속도 문제\n",
        "\n",
        "  -> Fast R-CNN 등장"
      ]
    },
    {
      "cell_type": "markdown",
      "metadata": {},
      "source": [
        "---"
      ]
    },
    {
      "cell_type": "markdown",
      "metadata": {
        "id": "KhQHwBpyC9Dp"
      },
      "source": [
        "#### Fast R-CNN"
      ]
    },
    {
      "cell_type": "markdown",
      "metadata": {
        "id": "9aRGl0DgEfpM"
      },
      "source": [
        "- R-CNN의 속도 문제를 개선하기 위해 `RoI(Region of Interest Proposal) Pooling` 도입\n",
        "\n",
        "  - 크기가 다른 영역마다 **stride를 다르게** 하여 Max Pooling을 적용하는 방법\n",
        "  \n",
        "  - 공간 피라미드 풀링보다 빠르게 각 RoI의 크기를 동일하게 맞출 수 있음"
      ]
    },
    {
      "cell_type": "markdown",
      "metadata": {},
      "source": [
        "---"
      ]
    },
    {
      "cell_type": "markdown",
      "metadata": {
        "id": "sQF7ReOvEkew"
      },
      "source": [
        "#### Faseter R-CNN"
      ]
    },
    {
      "cell_type": "markdown",
      "metadata": {
        "id": "MjT16Xd0H8Dj"
      },
      "source": [
        "- `후보 영역 추출` 과정을 `CNN 내부`에서 진행할 수 있도록 설계함\n",
        "\n",
        "- Fast R-CNN에 후보 영역 추출 네트워크 `RPN(Region Proposal Network)` 추가"
      ]
    },
    {
      "cell_type": "markdown",
      "metadata": {
        "id": "QTDHiE6tPEnr"
      },
      "source": [
        "##### - 후보 영역 추출 네트워크"
      ]
    },
    {
      "cell_type": "markdown",
      "metadata": {
        "id": "v917qO0EPCfW"
      },
      "source": [
        "  - NxN 크기의 작은 window 영역의 이미지를 입력받고, 해당 영역에 객체의 존재 유무를 판단함\n",
        "\n",
        "  - 이를 sliding window 방식으로 하여 모든 영역에 대해 판단함\n",
        "\n",
        "  - 하지만, 고정된 NxN window만으로는 다양한 크기의 이미지를 처리하기 어려움\n",
        "  \n",
        "  - 따라서, 여러 크기와 비율의 `reference box` k개를 미리 정의하고, 각각의 sliding window 위치마다 박스 k개를 출력하도록 설계함"
      ]
    },
    {
      "cell_type": "markdown",
      "metadata": {},
      "source": [
        "<img src=\"https://blog.kakaocdn.net/dn/DQelq/btqK7cbAhww/o9FmiN4n8ilBqdQ2AJ4Zck/img.png\" width=\"450px\">"
      ]
    },
    {
      "cell_type": "markdown",
      "metadata": {
        "id": "MWGoEUffNVdX"
      },
      "source": [
        "- NxN window 크기로 이미지를 sliding 하며, 전체 영역에 대해 객체 검출을 함\n",
        "\n",
        "- 이 때, 각 window 영역에 대해 k개의 reference box가 생성됨\n",
        "\n",
        "  - 각 window에 대해서는 다음과 같은 출력값이 나옴\n",
        "\n",
        "    - 객체 유무 분류 : 객체/배경 -> 2개\n",
        "\n",
        "    - 바운딩 박스 좌표 : (x, y, w, h) -> 4개\n",
        "\n",
        "  - 따라서, 각 window에 해당하는 k개의 reference box에 대해서는 다음과 같은 출력값이 나옴\n",
        "\n",
        "    - 객체 유무 분류 : 2k개\n",
        "    \n",
        "    - 바운딩 박스 좌표 : 4k개"
      ]
    }
  ],
  "metadata": {
    "accelerator": "GPU",
    "colab": {
      "gpuType": "T4",
      "provenance": []
    },
    "kernelspec": {
      "display_name": "Python 3",
      "name": "python3"
    },
    "language_info": {
      "name": "python"
    }
  },
  "nbformat": 4,
  "nbformat_minor": 0
}
